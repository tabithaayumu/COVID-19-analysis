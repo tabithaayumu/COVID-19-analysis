{
 "cells": [
  {
   "cell_type": "markdown",
   "id": "c888a80d-9043-4106-a130-0be8db39d0eb",
   "metadata": {},
   "source": [
    "# Mapping the Pandemic: A Statistical Approach to COVID-19"
   ]
  },
  {
   "cell_type": "markdown",
   "id": "46eb9d9a-c1da-4dcb-9abb-bbc4fb03e722",
   "metadata": {},
   "source": [
    "The COVID-19 pandemic has had a profound global impact, with varying effects across different countries. This analysis aims to provide a comprehensive overview of the pandemic’s progression, focusing on confirmed cases, death tolls, growth, and mortality rates over time. By comparing key countries and identifying trends, the analysis offers insights into the virus’s spread, the effectiveness of public health measures, and the evolving nature of the pandemic through its various waves. This data-driven approach helps in understanding the pandemic's trajectory and its implications on a global scale."
   ]
  },
  {
   "cell_type": "markdown",
   "id": "182cf052-72aa-4ead-a4a7-617cb40a16bd",
   "metadata": {},
   "source": [
    "## Data Cleaning and Exploratory Data Analysis"
   ]
  },
  {
   "cell_type": "code",
   "execution_count": null,
   "id": "558b981e-c1c2-4664-9d80-85b8550feffb",
   "metadata": {},
   "outputs": [],
   "source": [
    "import pandas as pd\n",
    "import numpy as np"
   ]
  },
  {
   "cell_type": "code",
   "execution_count": null,
   "id": "8aa3df91-9c77-43ed-8442-30d847bd5f12",
   "metadata": {},
   "outputs": [],
   "source": [
    "covid_df = pd.read_csv(\"covid_19_data.csv\")"
   ]
  },
  {
   "cell_type": "code",
   "execution_count": null,
   "id": "162a9a46-4ded-4009-80e2-fb19b85335c5",
   "metadata": {},
   "outputs": [],
   "source": [
    "covid_df.head()"
   ]
  },
  {
   "cell_type": "code",
   "execution_count": null,
   "id": "e7fed54e-dc43-40c0-984f-86f94204387c",
   "metadata": {},
   "outputs": [],
   "source": [
    "covid_df.info()"
   ]
  },
  {
   "cell_type": "code",
   "execution_count": null,
   "id": "290f423b-1df5-4b48-9f82-55440db85b41",
   "metadata": {},
   "outputs": [],
   "source": [
    "covid_df.isnull().sum()"
   ]
  },
  {
   "cell_type": "code",
   "execution_count": null,
   "id": "3374d879-6baa-48e5-8e3c-9a769cb010c7",
   "metadata": {},
   "outputs": [],
   "source": [
    "# Change data types\n",
    "covid_df[[\"Confirmed\", \"Deaths\", \"Recovered\"]] = covid_df[[\"Confirmed\", \"Deaths\", \"Recovered\"]].astype(int)"
   ]
  },
  {
   "cell_type": "code",
   "execution_count": null,
   "id": "1b1f9a0c-7eed-4170-9eb8-9b309a89dc42",
   "metadata": {},
   "outputs": [],
   "source": [
    "# Convert columns to date time columns\n",
    "covid_df['ObservationDate'] = pd.to_datetime(covid_df['ObservationDate'], errors='coerce')\n",
    "\n",
    "# Convert the 'Last Update' column to datetime\n",
    "covid_df['Last Update'] = pd.to_datetime(covid_df['Last Update'], errors='coerce')\n",
    "covid_df['Last Update'] = covid_df['Last Update'].dt.strftime('%d/%m/%Y')"
   ]
  },
  {
   "cell_type": "code",
   "execution_count": null,
   "id": "492e9962-0917-4041-9920-ec5434d1c275",
   "metadata": {},
   "outputs": [],
   "source": [
    "# Rename the column names\n",
    "covid_df = covid_df.rename(columns={'ObservationDate': 'Observation Date', 'Country/Region': 'Country'})"
   ]
  },
  {
   "cell_type": "code",
   "execution_count": null,
   "id": "3c156a63-884c-49ea-9517-596467d792ce",
   "metadata": {},
   "outputs": [],
   "source": [
    "# Replace multiple values in the Country column\n",
    "covid_df['Country'] = covid_df['Country'].replace(['Mainland China', 'Macau', 'Hong Kong'], 'China')\n",
    "covid_df['Country'] = covid_df['Country'].replace(['French Guiana', 'Reunion'], 'France')\n",
    "covid_df['Country'] = covid_df['Country'].replace('Holy See', 'Rome')\n",
    "covid_df['Country'] = covid_df['Country'].replace('occupied Palestinian territory', 'Palestine')\n",
    "covid_df['Country'] = covid_df['Country'].replace(\"('St. Martin',)\", 'St. Martin')\n",
    "covid_df['Country'] = covid_df['Country'].replace('Ireland', 'Republic of Ireland')\n",
    "covid_df['Country'] = covid_df['Country'].replace('Congo (Brazzaville)', 'Republic of the Congo')\n",
    "covid_df['Country'] = covid_df['Country'].replace('Congo (Kinshasa)', 'DR Congo')\n",
    "covid_df['Country'] = covid_df['Country'].replace(['Gambia', 'Gambia, The'], 'The Gambia')"
   ]
  },
  {
   "cell_type": "code",
   "execution_count": null,
   "id": "f12cc944-ad25-46f9-ac54-4189340386fd",
   "metadata": {},
   "outputs": [],
   "source": [
    "# Delete irrelevant column\n",
    "covid_df = covid_df.drop(\"SNo\", axis=1)"
   ]
  },
  {
   "cell_type": "code",
   "execution_count": null,
   "id": "2d460c9f-ae95-4d8b-a490-c6ddf7252311",
   "metadata": {},
   "outputs": [],
   "source": [
    "covid_df.info()"
   ]
  },
  {
   "cell_type": "code",
   "execution_count": null,
   "id": "857f78ce-33c4-483d-9705-16cef4ed9e60",
   "metadata": {},
   "outputs": [],
   "source": [
    "# Delete duplicates\n",
    "covid_df = covid_df.drop_duplicates()"
   ]
  },
  {
   "cell_type": "code",
   "execution_count": null,
   "id": "0450ab2a-6d85-4930-bc7b-14468d40a383",
   "metadata": {},
   "outputs": [],
   "source": [
    "covid_df.shape"
   ]
  },
  {
   "cell_type": "markdown",
   "id": "01c7c2b1-d1b5-46fc-9d74-5e2b22f0c70f",
   "metadata": {},
   "source": [
    "### What is the overall trend of confirmed COVID-19 cases globally?"
   ]
  },
  {
   "cell_type": "code",
   "execution_count": null,
   "id": "2851240a-8fc1-4bc1-a41c-8058e373f9d6",
   "metadata": {},
   "outputs": [],
   "source": [
    "import matplotlib.pyplot as plt"
   ]
  },
  {
   "cell_type": "code",
   "execution_count": null,
   "id": "6d811a32-b1c9-4c44-8121-7ba1cb49693c",
   "metadata": {},
   "outputs": [],
   "source": [
    "# Plot the trend in the total number of confirmed cases over time\n",
    "plt.figure(figsize=(10, 6))\n",
    "plt.plot(covid_df.groupby(\"Observation Date\")[\"Confirmed\"].sum())\n",
    "plt.xlabel('Observation Date')\n",
    "plt.ylabel('Confirmed Cases')\n",
    "plt.title('Confirmed Cases Over Time')\n",
    "plt.xticks(rotation=45)  # Rotate month labels for better readability\n",
    "plt.yticks([30000000, 60000000, 90000000, 120000000, 150000000, 180000000], \n",
    "           ['30,000,000', '60,000,000', '90,000,000', '120,000,000', '150,000,000', '180,000,000'])\n",
    "plt.tight_layout()\n",
    "plt.show()"
   ]
  },
  {
   "cell_type": "markdown",
   "id": "38619ea5-44d1-4fd2-9561-69a49dbfcf0e",
   "metadata": {},
   "source": [
    "This line graph shows a clear exponential rise in confirmed COVID-19 cases from early 2020 to mid-2021. Initial growth is slow, but cases surge from mid-2020, reflecting global spread and multiple waves. By May 2021, the curve continues upward with no sign of slowing, indicating ongoing rapid increases in case counts despite public health efforts."
   ]
  },
  {
   "cell_type": "markdown",
   "id": "3c1df6fc-b4b4-410a-baf5-f7c94974f371",
   "metadata": {},
   "source": [
    "### Which countries had the highest number of confirmed COVID-19 cases?"
   ]
  },
  {
   "cell_type": "code",
   "execution_count": null,
   "id": "4c0dfa12-5d77-4625-984d-bfb8da5fe212",
   "metadata": {
    "scrolled": true
   },
   "outputs": [],
   "source": [
    "top_countries = covid_df.groupby('Country')['Confirmed'].sum().sort_values(ascending=False).head(10)\n",
    "print(top_countries)"
   ]
  },
  {
   "cell_type": "markdown",
   "id": "7c59fe9f-3eec-4d64-8be2-e86debf6bbe3",
   "metadata": {},
   "source": [
    "The U.S. leads by a significant margin, while India and Brazil follow closely, highlighting the pandemic's severe impact in these regions. Lower counts in Russia, France, and the UK suggest varying healthcare responses and transmission rates."
   ]
  },
  {
   "cell_type": "markdown",
   "id": "c8a534ed-de21-4f8c-a04d-a7dda8d636b7",
   "metadata": {},
   "source": [
    "### How does the mortality rate (deaths/confirmed cases) vary across different countries?"
   ]
  },
  {
   "cell_type": "code",
   "execution_count": null,
   "id": "b528e7ed-4e93-42e8-afbe-93943d040834",
   "metadata": {},
   "outputs": [],
   "source": [
    "covid_df['Mortality Rate'] = np.where(covid_df['Confirmed'] != 0,\n",
    "                                      covid_df['Deaths'] / covid_df['Confirmed'], \n",
    "                                      np.nan)\n",
    "mortality_rate = covid_df.groupby('Country')['Mortality Rate'].mean()\n",
    "top_mortality_rate = mortality_rate.sort_values(ascending=False).head(10)\n",
    "\n",
    "print(f\"The average mortality rate is {mortality_rate.mean():.2f}\")"
   ]
  },
  {
   "cell_type": "code",
   "execution_count": null,
   "id": "2107e628-8b21-4ee3-9c55-2d85607a87b6",
   "metadata": {},
   "outputs": [],
   "source": [
    "print(top_mortality_rate)"
   ]
  },
  {
   "cell_type": "markdown",
   "id": "c115277a-f796-4e2c-9f31-7d6591bd0fc5",
   "metadata": {},
   "source": [
    "A mortality rate of 0.02 (or 2%) indicates that 2 out of every 100 confirmed cases of a disease result in death. This suggests a significant risk, especially for vulnerable populations, while also implying that the disease can often be managed with proper healthcare responses. "
   ]
  },
  {
   "cell_type": "markdown",
   "id": "a883812d-c62d-455b-b952-86026a5c0ac5",
   "metadata": {},
   "source": [
    "### What are the recovery rates for different countries?"
   ]
  },
  {
   "cell_type": "code",
   "execution_count": null,
   "id": "11a33c47-aa36-4411-a908-4d38d2627b4b",
   "metadata": {},
   "outputs": [],
   "source": [
    "covid_df['Recovery Rate'] = np.where(covid_df['Confirmed'] != 0,\n",
    "                                      covid_df['Recovered'] / covid_df['Confirmed'], \n",
    "                                      np.nan)\n",
    "recovery_rate = covid_df.groupby('Country')['Recovery Rate'].mean()\n",
    "top_recovery_rate = recovery_rate.sort_values(ascending=False).head(10)\n",
    "\n",
    "print(f\"The average recovery rate is {recovery_rate.mean()}\")"
   ]
  },
  {
   "cell_type": "code",
   "execution_count": null,
   "id": "9ea596c2-ab7e-4307-964f-851e279d52e8",
   "metadata": {},
   "outputs": [],
   "source": [
    "print(top_recovery_rate)"
   ]
  },
  {
   "cell_type": "markdown",
   "id": "e46e42d2-9195-4afb-9c19-75fdc1637d95",
   "metadata": {},
   "source": [
    "A recovery rate of 0.59 (or 59%) indicates that 59% of individuals diagnosed with COVID-19 have recovered. This suggests a moderate level of recovery, but it also means that 41% of cases have not recovered, which could include ongoing treatments, complications, or fatalities. While the rate reflects some success in recovery efforts, it underscores the continued burden on healthcare systems and the need for ongoing public health measures."
   ]
  },
  {
   "cell_type": "markdown",
   "id": "68281fd4-e55f-47ab-b3ea-7203283a23ea",
   "metadata": {},
   "source": [
    "### What is the trend in daily new confirmed cases globally and per country?"
   ]
  },
  {
   "cell_type": "code",
   "execution_count": null,
   "id": "f30b78e8-6dcc-47e5-a345-b65b4fcfc441",
   "metadata": {},
   "outputs": [],
   "source": [
    "covid_df.sort_values(by=['Country', 'Observation Date'], inplace=True)\n",
    "\n",
    "# Group by date and country, summing the confirmed cases\n",
    "daily_cases = covid_df.groupby(['Observation Date', 'Country'])['Confirmed'].sum().reset_index()\n",
    "\n",
    "# Calculate daily new confirmed cases\n",
    "daily_cases['New Confirmed'] = daily_cases.groupby('Country')['Confirmed'].diff().fillna(0)\n",
    "\n",
    "global_daily_cases = daily_cases.groupby('Observation Date')['New Confirmed'].sum().reset_index()\n",
    "\n",
    "top_daily_cases = daily_cases.groupby('Country')['New Confirmed'].sum().reset_index().sort_values(by='New Confirmed', ascending=False).head(10)\n",
    "\n",
    "print(top_daily_cases)"
   ]
  },
  {
   "cell_type": "code",
   "execution_count": null,
   "id": "37bda551-0742-4c59-98cd-93cb59f04840",
   "metadata": {},
   "outputs": [],
   "source": [
    "# Plot global daily new confirmed cases\n",
    "plt.figure(figsize=(12, 6))\n",
    "plt.plot(global_daily_cases['Observation Date'], global_daily_cases['New Confirmed'], label='Global Daily New Confirmed Cases', color='blue')\n",
    "plt.xlabel('Date')\n",
    "plt.ylabel('Number of New Cases')\n",
    "plt.title('Trend in Global Daily New Confirmed COVID-19 Cases')\n",
    "plt.xticks(rotation=45)\n",
    "plt.legend()\n",
    "plt.tight_layout()\n",
    "plt.show()"
   ]
  },
  {
   "cell_type": "markdown",
   "id": "74daaaf2-f7de-48ef-8073-e64f65fde4ae",
   "metadata": {},
   "source": [
    "The line graph illustrates the global trend of daily new confirmed COVID-19 cases over time. The x-axis represents the date, spanning from early 2020 to mid-2021, while the y-axis depicts the number of new cases.\n",
    "\n",
    "The graph showcases an overall upward trend in daily new cases, with noticeable fluctuations and distinct peaks. A significant surge is observed towards the end of 2020, followed by a period of sustained high numbers. The graph provides a visual representation of the global impact and spread of the COVID-19 pandemic during the period illustrated."
   ]
  },
  {
   "cell_type": "code",
   "execution_count": null,
   "id": "55ff4cfe-64af-44bf-9f31-641b816c76d4",
   "metadata": {},
   "outputs": [],
   "source": [
    "countries_to_plot = ['US', 'India', 'Brazil']\n",
    "for country in countries_to_plot:\n",
    "    country_data = daily_cases[daily_cases['Country'] == country]\n",
    "    plt.plot(country_data['Observation Date'], country_data['New Confirmed'], label=country)\n",
    "\n",
    "plt.xlabel('Date')\n",
    "plt.ylabel('Number of New Cases')\n",
    "plt.title('Trend in Daily New Confirmed COVID-19 Cases by Country')\n",
    "plt.xticks(rotation=45)\n",
    "plt.legend()\n",
    "plt.tight_layout()\n",
    "plt.show()"
   ]
  },
  {
   "cell_type": "markdown",
   "id": "c4893a7f-36b8-4194-ab03-b0ccf3ded0c5",
   "metadata": {},
   "source": [
    "The line graph shows the number of daily new COVID-19 cases in the US, India, and Brazil. The US had two large peaks, one in late 2020 and one in early 2021. India had one very large peak in mid-2021. Brazil had a more steady number of cases, with a small peak in early 2021."
   ]
  },
  {
   "cell_type": "markdown",
   "id": "c97e5bc1-6091-4e22-8e1d-af070ee4a404",
   "metadata": {},
   "source": [
    "### Are there any seasonal trends in the spread of COVID-19?"
   ]
  },
  {
   "cell_type": "code",
   "execution_count": null,
   "id": "137a41fa-954b-4cce-a0f8-d72d11a31c04",
   "metadata": {},
   "outputs": [],
   "source": [
    "covid_df['Month'] = covid_df['Observation Date'].dt.strftime('%B')\n",
    "seasonal_trend = covid_df.groupby('Month')['Confirmed'].sum()"
   ]
  },
  {
   "cell_type": "code",
   "execution_count": null,
   "id": "26792be0-77f9-4a92-a3d3-ac383f4fcddf",
   "metadata": {},
   "outputs": [],
   "source": [
    "# Sort the months by their calendar order\n",
    "months_order = ['January', 'February', 'March', 'April', 'May', 'June', 'July', 'August', \n",
    "                'September', 'October', 'November', 'December']"
   ]
  },
  {
   "cell_type": "code",
   "execution_count": null,
   "id": "20cb28f3-52a8-4c9b-9ac9-a69975c86c8a",
   "metadata": {},
   "outputs": [],
   "source": [
    "# Plot global daily new confirmed cases\n",
    "plt.figure(figsize=(12, 6))\n",
    "plt.plot(covid_df.groupby(\"Month\")[\"Confirmed\"].sum().reindex(months_order).dropna())\n",
    "plt.xlabel('Month')\n",
    "plt.ylabel('Number of Cases')\n",
    "plt.title('Seasonal Trend of COVID-19 Cases')\n",
    "plt.xticks(rotation=50)\n",
    "plt.yticks([200000000, 1000000000, 2000000000, 3000000000, 4000000000, 5000000000], \n",
    "           ['200,000,000', '1,000,000,000', '2,000,000,000', '3,000,000,000', '4,000,000,000', '5,000,000,000'])\n",
    "plt.legend()\n",
    "plt.tight_layout()\n",
    "plt.show()"
   ]
  },
  {
   "cell_type": "markdown",
   "id": "00efa278-5d76-4360-bbc4-6768d9f493cb",
   "metadata": {},
   "source": [
    "COVID-19 cases peak in spring (May), indicating heightened transmission. They decline significantly in early summer (June), likely due to warmer weather and outdoor activities, before rising steadily from summer through fall and winter, driven by indoor gatherings and holiday travel."
   ]
  },
  {
   "cell_type": "markdown",
   "id": "2fdf778a-0994-4916-a7ed-80944035036e",
   "metadata": {},
   "source": [
    "### Impact of Lockdown on Cases"
   ]
  },
  {
   "cell_type": "code",
   "execution_count": null,
   "id": "0a23d6ea-ea56-45ce-a54a-9cf942566f10",
   "metadata": {},
   "outputs": [],
   "source": [
    "# Define lockdown periods (example)\n",
    "covid_df['Is_Lockdown'] = np.where((covid_df['Observation Date'] >= '2020-03-15') & (covid_df['Observation Date'] <= '2020-06-01'), True, False)"
   ]
  },
  {
   "cell_type": "code",
   "execution_count": null,
   "id": "a970b935-502a-4ef5-8f95-a1c64217b372",
   "metadata": {},
   "outputs": [],
   "source": [
    "# Aggregate daily new cases\n",
    "covid_df['New_Confirmed'] = covid_df['Confirmed'].diff().fillna(0)"
   ]
  },
  {
   "cell_type": "code",
   "execution_count": null,
   "id": "38040518-bea1-4ecf-adfe-d9b1ffcb78bb",
   "metadata": {},
   "outputs": [],
   "source": [
    "# Group by date and lockdown status\n",
    "daily_cases = covid_df.groupby(['Observation Date', 'Is_Lockdown'])['New_Confirmed'].sum().reset_index()"
   ]
  },
  {
   "cell_type": "code",
   "execution_count": null,
   "id": "dfd25f05-cc9e-4b48-90a5-c3ba3f5bab28",
   "metadata": {},
   "outputs": [],
   "source": [
    "# Plotting\n",
    "plt.figure(figsize=(14, 7))\n",
    "for label, df in daily_cases.groupby('Is_Lockdown'):\n",
    "    plt.plot(df['Observation Date'], df['New_Confirmed'], label='Lockdown' if label else 'No Lockdown')\n",
    "\n",
    "plt.axvline(x=pd.to_datetime('2020-03-15'), color='gray', linestyle='--', label='Lockdown Start')\n",
    "plt.axvline(x=pd.to_datetime('2020-06-01'), color='red', linestyle='--', label='Lockdown End')\n",
    "plt.title('Impact of Lockdown on Daily New Confirmed Cases')\n",
    "plt.xlabel('Date')\n",
    "plt.ylabel('New Confirmed Cases')\n",
    "plt.legend()\n",
    "plt.show()"
   ]
  },
  {
   "cell_type": "markdown",
   "id": "bd66499b-9814-4cb7-9ce0-ddf6b27227d6",
   "metadata": {},
   "source": [
    "The graph suggests a decrease in daily new confirmed cases following the implementation of the lockdown"
   ]
  },
  {
   "cell_type": "markdown",
   "id": "6d0c8455-1fcd-47cb-bd99-b2be6b8d2be3",
   "metadata": {},
   "source": [
    "## Conclusion"
   ]
  },
  {
   "cell_type": "markdown",
   "id": "760b9197-8cec-4517-98c0-45a4b84746bd",
   "metadata": {},
   "source": [
    "In conclusion, this COVID-19 analysis highlights the dynamic and evolving nature of the pandemic across different regions. While early 2020 saw rapid growth in confirmed cases and mortality rates, global responses such as lockdowns and improved medical interventions helped stabilize the situation over time. However, second waves and regional disparities particularly in countries like the U.S., India, and Brazil, the ongoing challenges in managing the virus. Understanding these trends is crucial for guiding future public health strategies and ensuring preparedness for similar crises in the future."
   ]
  }
 ],
 "metadata": {
  "kernelspec": {
   "display_name": "Python 3 (ipykernel)",
   "language": "python",
   "name": "python3"
  },
  "language_info": {
   "codemirror_mode": {
    "name": "ipython",
    "version": 3
   },
   "file_extension": ".py",
   "mimetype": "text/x-python",
   "name": "python",
   "nbconvert_exporter": "python",
   "pygments_lexer": "ipython3",
   "version": "3.11.7"
  }
 },
 "nbformat": 4,
 "nbformat_minor": 5
}
